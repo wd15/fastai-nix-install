{
 "cells": [
  {
   "cell_type": "code",
   "execution_count": 35,
   "metadata": {},
   "outputs": [],
   "source": [
    "import numpy as np\n",
    "from toolz.curried import pipe, curry, identity, merge_with\n",
    "from toolz.curried import map as map_\n",
    "import matplotlib.pyplot as plt\n",
    "import math\n",
    "\n",
    "%matplotlib inline"
   ]
  },
  {
   "cell_type": "code",
   "execution_count": 50,
   "metadata": {},
   "outputs": [
    {
     "name": "stdout",
     "output_type": "stream",
     "text": [
      "{Leaf(w0): -0.19661193324148188, Leaf(x0): 0.39322386648296376, Leaf(w1): -0.39322386648296376, Leaf(x1): -0.5898357997244457, Leaf(w2): 0.19661193324148188}\n"
     ]
    }
   ],
   "source": [
    "## Example from https://cs231n.github.io/optimization-2/\n",
    "\n",
    "class Node:\n",
    "    def __init__(self, *nodes):\n",
    "        self.nodes = nodes\n",
    "        self.loss = None\n",
    "        \n",
    "    def calc(self):\n",
    "        if self.loss is None:\n",
    "            self.loss = self.f(*list(map_(lambda x: x.calc(), self.nodes)))\n",
    "        return self.loss\n",
    "  \n",
    "    def backprop(self, dvalue=1.0):\n",
    "        values = list(map_(lambda x: x.calc(), self.nodes))\n",
    "        dvalues = list(map_(lambda x: x * dvalue, self.df(*values)))\n",
    "        backprops = list(map_(lambda x: x[0].backprop(x[1]), zip(self.nodes, dvalues)))\n",
    "        return merge_with(sum, *backprops)\n",
    "    \n",
    "    def __mul__(self, other):\n",
    "        return Mul(self, other)\n",
    "    \n",
    "    def __add__(self, other):\n",
    "        return Add(self, other)\n",
    "    \n",
    "class Leaf(Node):\n",
    "    def __init__(self, value, name):\n",
    "        super().__init__()\n",
    "        self.f = lambda: value\n",
    "        self.name = name\n",
    "       \n",
    "    def backprop(self, dvalue):\n",
    "        return {self: dvalue}\n",
    "    \n",
    "    def __repr__(self):\n",
    "        return f'Leaf({self.name})'\n",
    "    \n",
    "class Add(Node):\n",
    "    f = staticmethod(lambda a, b: a + b)\n",
    "    df = staticmethod(lambda a, b: (1, 1))\n",
    "    \n",
    "class Div(Node):\n",
    "    f = staticmethod(lambda a, b: a / b)\n",
    "    df = staticmethod(lambda a, b: (1 / b, -a / b**2))\n",
    "    \n",
    "class Mul(Node):\n",
    "    f = staticmethod(lambda a, b: a * b)\n",
    "    df = staticmethod(lambda a, b: (b, a))\n",
    "\n",
    "class Sig(Node):\n",
    "    f = staticmethod(lambda a: 1 / (1 + math.exp(-a)))\n",
    "    df = staticmethod(lambda a: (Sig.f(a)**2 * math.exp(-a),))\n",
    "    \n",
    "#    def backprop(self, dvalue):\n",
    "#        return {'d' + self.name: dvalue}\n",
    "    \n",
    "x0 = Leaf(-1, 'x0')\n",
    "x1 = Leaf(-2, 'x1')\n",
    "w0 = Leaf(2, 'w0')\n",
    "w1 = Leaf(-3, 'w1')\n",
    "w2 = Leaf(-3, 'w2')\n",
    "\n",
    "out = Sig(w0 * x0 + w1 * x1 + w2)\n",
    "\n",
    "print(out.backprop())\n"
   ]
  },
  {
   "cell_type": "code",
   "execution_count": null,
   "metadata": {},
   "outputs": [],
   "source": [
    "class Weight(Leaf):\n",
    "    def __init__(self, shape, name):\n",
    "        super().__init__(0.01 * np.random.random(*shape), name)\n",
    "\n",
    "        \n",
    "        \n",
    "class NN(Node):\n",
    "    @staticmethod\n",
    "    def f(w, x, b):\n",
    "        return np.dot(x, w) + b\n",
    "    \n",
    "    @staticmethod\n",
    "    def df(w, x, b):\n",
    "        \n",
    "        "
   ]
  },
  {
   "cell_type": "code",
   "execution_count": 22,
   "metadata": {},
   "outputs": [
    {
     "data": {
      "text/plain": [
       "3"
      ]
     },
     "execution_count": 22,
     "metadata": {},
     "output_type": "execute_result"
    }
   ],
   "source": [
    "(lambda: 3)(*())"
   ]
  },
  {
   "cell_type": "code",
   "execution_count": 6,
   "metadata": {},
   "outputs": [],
   "source": [
    "def softmax(x):\n",
    "    return np.exp(x) / np.sum(np.exp(x), axis=1, keepdims=True)"
   ]
  },
  {
   "cell_type": "code",
   "execution_count": 4,
   "metadata": {},
   "outputs": [],
   "source": [
    "@curry\n",
    "def xentropy(y, x):\n",
    "    return -np.log(x[range(len(y)), y])"
   ]
  },
  {
   "cell_type": "code",
   "execution_count": 5,
   "metadata": {},
   "outputs": [],
   "source": [
    "@curry\n",
    "def nn(w, b, x):\n",
    "    return np.dot(x,  w) + b"
   ]
  },
  {
   "cell_type": "code",
   "execution_count": 6,
   "metadata": {},
   "outputs": [],
   "source": [
    "def relu(x):\n",
    "    return np.maximum(0, x)"
   ]
  },
  {
   "cell_type": "code",
   "execution_count": 7,
   "metadata": {},
   "outputs": [],
   "source": [
    "@curry\n",
    "def loss(reg, weights, x):\n",
    "    w0 = weights['w0']\n",
    "    w1 = weights['w1']\n",
    "    return np.sum(x) / len(x) + 0.5 * reg * (np.sum(w0 * w0) + np.sum(w1 * w1)) "
   ]
  },
  {
   "cell_type": "code",
   "execution_count": 8,
   "metadata": {},
   "outputs": [],
   "source": [
    "def calc_layers(x, y, weights, reg):\n",
    "    return pipe(\n",
    "        x,\n",
    "        nn(weights['w0'], weights['b0']),\n",
    "        relu,\n",
    "        nn(weights['w1'], weights['b1']),\n",
    "        softmax,\n",
    "        xentropy(y),\n",
    "        loss(reg, weights)\n",
    "    )"
   ]
  },
  {
   "cell_type": "code",
   "execution_count": 9,
   "metadata": {},
   "outputs": [],
   "source": [
    "def init(shape):\n",
    "    return 0.01 * (2 * np.random.random(shape) - 1)"
   ]
  },
  {
   "cell_type": "code",
   "execution_count": 10,
   "metadata": {},
   "outputs": [],
   "source": [
    "def init_weights(shapes):\n",
    "    return dict(\n",
    "        w0=init((shapes[0], shapes[1])),\n",
    "        w1=init((shapes[1], shapes[2])),\n",
    "        b0=np.zeros(shapes[1]),\n",
    "        b1=np.zeros(shapes[2])\n",
    "    )"
   ]
  },
  {
   "cell_type": "code",
   "execution_count": 11,
   "metadata": {},
   "outputs": [
    {
     "name": "stdout",
     "output_type": "stream",
     "text": [
      "1.098526677544226\n"
     ]
    }
   ],
   "source": [
    "Nsample = 10\n",
    "Nfeature = 20\n",
    "N0 = 15\n",
    "Nclass = 3\n",
    "reg = 1e-3\n",
    "\n",
    "expected = np.random.choice(np.arange(Nclass), size=(Nsample,))\n",
    "inputs = 2 * np.random.random((Nsample, Nfeature)) - 1\n",
    "weights = init_weights((Nfeature, N0, Nclass))\n",
    "\n",
    "loss_ = calc_layers(inputs, expected, weights, reg)\n",
    "print(loss_)"
   ]
  },
  {
   "cell_type": "code",
   "execution_count": 12,
   "metadata": {},
   "outputs": [
    {
     "name": "stdout",
     "output_type": "stream",
     "text": [
      "(300, 2)\n",
      "(300,)\n"
     ]
    },
    {
     "data": {
      "image/png": "[encoded data removed]",
      "text/plain": [
       "<Figure size 432x288 with 1 Axes>"
      ]
     },
     "metadata": {
      "needs_background": "light"
     },
     "output_type": "display_data"
    }
   ],
   "source": [
    "def get_data():\n",
    "    N = 100 # number of points per class\n",
    "    D = 2 # dimensionality\n",
    "    K = 3 # number of classes\n",
    "    X = np.zeros((N*K,D)) # data matrix (each row = single example)\n",
    "    y = np.zeros(N*K, dtype='uint8') # class labels\n",
    "    for j in range(K):\n",
    "      ix = range(N*j,N*(j+1))\n",
    "      r = np.linspace(0.0,1,N) # radius\n",
    "      t = np.linspace(j*4,(j+1)*4,N) + np.random.randn(N)*0.2 # theta\n",
    "      X[ix] = np.c_[r*np.sin(t), r*np.cos(t)]\n",
    "      y[ix] = j\n",
    "    return X, y\n",
    "    \n",
    "x, y = get_data()\n",
    "print(x.shape)\n",
    "print(y.shape)\n",
    "plt.scatter(x[:, 0], x[:, 1], c=y, s=40, cmap=plt.cm.Spectral)\n",
    "plt.show()\n"
   ]
  },
  {
   "cell_type": "code",
   "execution_count": 16,
   "metadata": {},
   "outputs": [
    {
     "name": "stdout",
     "output_type": "stream",
     "text": [
      "1.0986264118045523\n"
     ]
    }
   ],
   "source": [
    "Nsample = 300\n",
    "Nfeature = 2\n",
    "N0 = 10\n",
    "Nclass = 3\n",
    "reg = 1e-3\n",
    "\n",
    "expected = y\n",
    "inputs = x\n",
    "weights = init_weights((Nfeature, N0, Nclass))\n",
    "\n",
    "loss_ = calc_layers(inputs, expected, weights, reg)\n",
    "print(loss_)\n"
   ]
  },
  {
   "cell_type": "code",
   "execution_count": null,
   "metadata": {},
   "outputs": [],
   "source": []
  }
 ],
 "metadata": {
  "kernelspec": {
   "display_name": "Python 3",
   "language": "python",
   "name": "python3"
  },
  "language_info": {
   "codemirror_mode": {
    "name": "ipython",
    "version": 3
   },
   "file_extension": ".py",
   "mimetype": "text/x-python",
   "name": "python",
   "nbconvert_exporter": "python",
   "pygments_lexer": "ipython3",
   "version": "3.6.8"
  }
 },
 "nbformat": 4,
 "nbformat_minor": 2
}
