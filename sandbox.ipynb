{
 "cells": [
  {
   "cell_type": "code",
   "execution_count": 137,
   "metadata": {},
   "outputs": [],
   "source": [
    "import numpy as np\n",
    "from toolz.curried import pipe, curry"
   ]
  },
  {
   "cell_type": "code",
   "execution_count": 166,
   "metadata": {},
   "outputs": [],
   "source": [
    "def softmax(x):\n",
    "    return np.exp(x) / np.sum(np.exp(x), axis=1, keepdims=True)"
   ]
  },
  {
   "cell_type": "code",
   "execution_count": 195,
   "metadata": {},
   "outputs": [],
   "source": [
    "@curry\n",
    "def xentropy(y, x):\n",
    "    print(range(len(y)))\n",
    "    return -np.log(x[range(len(y)), y])"
   ]
  },
  {
   "cell_type": "code",
   "execution_count": 196,
   "metadata": {},
   "outputs": [],
   "source": [
    "@curry\n",
    "def nn(w, b, x):\n",
    "    return np.dot(x,  w) + b"
   ]
  },
  {
   "cell_type": "code",
   "execution_count": 197,
   "metadata": {},
   "outputs": [],
   "source": [
    "def relu(x):\n",
    "    return np.maximum(0, x)"
   ]
  },
  {
   "cell_type": "code",
   "execution_count": 208,
   "metadata": {},
   "outputs": [],
   "source": [
    "@curry\n",
    "def loss(reg, w0, w1, x):\n",
    "    return np.sum(x) / len(x) + 0.5 * reg * (np.sum(w0 * w0) + np.sum(w1 * w1)) "
   ]
  },
  {
   "cell_type": "code",
   "execution_count": 209,
   "metadata": {},
   "outputs": [
    {
     "name": "stdout",
     "output_type": "stream",
     "text": [
      "range(0, 10)\n",
      "1.098703322838204\n"
     ]
    }
   ],
   "source": [
    "Nsample = 10\n",
    "Nfeature = 20\n",
    "N0 = 15\n",
    "Nclass = 3\n",
    "reg = 1e-3\n",
    "\n",
    "def init(shape):\n",
    "    return 0.01 * (2 * np.random.random(shape) - 1)\n",
    "\n",
    "expected = np.random.choice(np.arange(Nclass), size=(Nsample,))\n",
    "inputs = 2 * np.random.random((Nsample, Nfeature)) - 1\n",
    "w0 = init((Nfeature, N0))\n",
    "b0 = np.zeros(N0)\n",
    "w1 = init((N0, Nclass))\n",
    "b1 = np.zeros(Nclass)\n",
    "\n",
    "loss_ = pipe(\n",
    "    inputs,\n",
    "    nn(w0, b0),\n",
    "    relu,\n",
    "    nn(w1, b1),\n",
    "    softmax,\n",
    "    xentropy(expected),\n",
    "    loss(reg, w0, w1)\n",
    ")\n",
    "print(loss_)"
   ]
  },
  {
   "cell_type": "code",
   "execution_count": 164,
   "metadata": {},
   "outputs": [
    {
     "data": {
      "text/plain": [
       "array([0.3333143 , 0.33324797, 0.33328164, 0.33327933, 0.33326164,\n",
       "       0.33326232, 0.33337397, 0.33334359, 0.33329152, 0.33333656])"
      ]
     },
     "execution_count": 164,
     "metadata": {},
     "output_type": "execute_result"
    }
   ],
   "source": [
    "loss[np.arange(10), expected]"
   ]
  },
  {
   "cell_type": "code",
   "execution_count": 165,
   "metadata": {},
   "outputs": [
    {
     "data": {
      "text/plain": [
       "array([0, 0, 1, 1, 0, 0, 0, 0, 0, 1])"
      ]
     },
     "execution_count": 165,
     "metadata": {},
     "output_type": "execute_result"
    }
   ],
   "source": [
    "expected\n"
   ]
  },
  {
   "cell_type": "code",
   "execution_count": null,
   "metadata": {},
   "outputs": [],
   "source": []
  }
 ],
 "metadata": {
  "kernelspec": {
   "display_name": "Python 3",
   "language": "python",
   "name": "python3"
  },
  "language_info": {
   "codemirror_mode": {
    "name": "ipython",
    "version": 3
   },
   "file_extension": ".py",
   "mimetype": "text/x-python",
   "name": "python",
   "nbconvert_exporter": "python",
   "pygments_lexer": "ipython3",
   "version": "3.6.8"
  }
 },
 "nbformat": 4,
 "nbformat_minor": 2
}
